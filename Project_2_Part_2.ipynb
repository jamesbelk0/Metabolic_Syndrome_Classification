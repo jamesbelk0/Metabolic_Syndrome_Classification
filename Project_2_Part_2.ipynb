{
  "nbformat": 4,
  "nbformat_minor": 0,
  "metadata": {
    "colab": {
      "provenance": [],
      "toc_visible": true,
      "authorship_tag": "ABX9TyNhJ65CWOz0u0rDlJHliihm",
      "include_colab_link": true
    },
    "kernelspec": {
      "name": "python3",
      "display_name": "Python 3"
    },
    "language_info": {
      "name": "python"
    }
  },
  "cells": [
    {
      "cell_type": "markdown",
      "metadata": {
        "id": "view-in-github",
        "colab_type": "text"
      },
      "source": [
        "<a href=\"https://colab.research.google.com/github/jamesbelk0/Metabolic_Syndrome_Classification/blob/main/Project_2_Part_2.ipynb\" target=\"_parent\"><img src=\"https://colab.research.google.com/assets/colab-badge.svg\" alt=\"Open In Colab\"/></a>"
      ]
    },
    {
      "cell_type": "markdown",
      "source": [
        "# Project 2 - Part 2\n",
        "\n",
        "* James Belk\n",
        "* 02/14/2023"
      ],
      "metadata": {
        "id": "lm6RDFItxyVb"
      }
    },
    {
      "cell_type": "markdown",
      "source": [
        "## Import"
      ],
      "metadata": {
        "id": "j2Sp0ZY0x6BC"
      }
    },
    {
      "cell_type": "code",
      "execution_count": 1,
      "metadata": {
        "id": "DTRr2zkIxwhC"
      },
      "outputs": [],
      "source": [
        "## Pandas\n",
        "import pandas as pd\n",
        "## Numpy\n",
        "import numpy as np\n",
        "## MatplotLib\n",
        "import matplotlib.pyplot as plt\n",
        "## Seaborn\n",
        "import seaborn as sns\n",
        "\n",
        "## Preprocessing\n",
        "from sklearn.model_selection import train_test_split\n",
        "from sklearn.compose import make_column_selector \n",
        "from sklearn.preprocessing import StandardScaler, OneHotEncoder\n",
        "from sklearn.pipeline import make_pipeline\n",
        "from sklearn.compose import make_column_transformer\n",
        "from sklearn.impute import SimpleImputer\n",
        "\n",
        "## Models\n",
        "from sklearn.linear_model import LogisticRegression\n",
        "from sklearn.ensemble import RandomForestClassifier\n",
        "from sklearn.neighbors import KNeighborsClassifier\n",
        "from xgboost import XGBClassifier\n",
        "\n",
        "## Classification Metrics\n",
        "from sklearn.metrics import (roc_auc_score, ConfusionMatrixDisplay, \n",
        "                             PrecisionRecallDisplay, RocCurveDisplay, \n",
        "                             f1_score, accuracy_score, classification_report)\n",
        "\n",
        "## Set global scikit-learn configuration \n",
        "from sklearn import set_config\n",
        "## Display estimators as a diagram\n",
        "set_config(display='diagram') # 'text' or 'diagram'}"
      ]
    },
    {
      "cell_type": "markdown",
      "source": [
        "## Load Data"
      ],
      "metadata": {
        "id": "ET8aed4bx7br"
      }
    },
    {
      "cell_type": "code",
      "source": [
        "og_df = pd.read_csv('/content/metabolic_syndrome.csv')\n",
        "og_df.head()"
      ],
      "metadata": {
        "colab": {
          "base_uri": "https://localhost:8080/",
          "height": 206
        },
        "id": "0-CrEDhnx9qk",
        "outputId": "e8840945-6841-4c91-edb9-0e62f6f4c508"
      },
      "execution_count": 2,
      "outputs": [
        {
          "output_type": "execute_result",
          "data": {
            "text/plain": [
              "    seqn  age     sex  marital  income   race  waistcirc   bmi  albuminuria  \\\n",
              "0  62161   22    Male   Single  8200.0  White       81.0  23.3            0   \n",
              "1  62164   44  Female  Married  4500.0  White       80.1  23.2            0   \n",
              "2  62169   21    Male   Single   800.0  Asian       69.6  20.1            0   \n",
              "3  62172   43  Female   Single  2000.0  Black      120.4  33.3            0   \n",
              "4  62177   51    Male  Married     NaN  Asian       81.1  20.1            0   \n",
              "\n",
              "   uralbcr  uricacid  bloodglucose  hdl  triglycerides metabolicsyndrome  \n",
              "0     3.88       4.9            92   41             84         No MetSyn  \n",
              "1     8.55       4.5            82   28             56         No MetSyn  \n",
              "2     5.07       5.4           107   43             78         No MetSyn  \n",
              "3     5.22       5.0           104   73            141         No MetSyn  \n",
              "4     8.13       5.0            95   43            126         No MetSyn  "
            ],
            "text/html": [
              "\n",
              "  <div id=\"df-dee230b0-736d-4aa3-bc0f-19ed20c07897\">\n",
              "    <div class=\"colab-df-container\">\n",
              "      <div>\n",
              "<style scoped>\n",
              "    .dataframe tbody tr th:only-of-type {\n",
              "        vertical-align: middle;\n",
              "    }\n",
              "\n",
              "    .dataframe tbody tr th {\n",
              "        vertical-align: top;\n",
              "    }\n",
              "\n",
              "    .dataframe thead th {\n",
              "        text-align: right;\n",
              "    }\n",
              "</style>\n",
              "<table border=\"1\" class=\"dataframe\">\n",
              "  <thead>\n",
              "    <tr style=\"text-align: right;\">\n",
              "      <th></th>\n",
              "      <th>seqn</th>\n",
              "      <th>age</th>\n",
              "      <th>sex</th>\n",
              "      <th>marital</th>\n",
              "      <th>income</th>\n",
              "      <th>race</th>\n",
              "      <th>waistcirc</th>\n",
              "      <th>bmi</th>\n",
              "      <th>albuminuria</th>\n",
              "      <th>uralbcr</th>\n",
              "      <th>uricacid</th>\n",
              "      <th>bloodglucose</th>\n",
              "      <th>hdl</th>\n",
              "      <th>triglycerides</th>\n",
              "      <th>metabolicsyndrome</th>\n",
              "    </tr>\n",
              "  </thead>\n",
              "  <tbody>\n",
              "    <tr>\n",
              "      <th>0</th>\n",
              "      <td>62161</td>\n",
              "      <td>22</td>\n",
              "      <td>Male</td>\n",
              "      <td>Single</td>\n",
              "      <td>8200.0</td>\n",
              "      <td>White</td>\n",
              "      <td>81.0</td>\n",
              "      <td>23.3</td>\n",
              "      <td>0</td>\n",
              "      <td>3.88</td>\n",
              "      <td>4.9</td>\n",
              "      <td>92</td>\n",
              "      <td>41</td>\n",
              "      <td>84</td>\n",
              "      <td>No MetSyn</td>\n",
              "    </tr>\n",
              "    <tr>\n",
              "      <th>1</th>\n",
              "      <td>62164</td>\n",
              "      <td>44</td>\n",
              "      <td>Female</td>\n",
              "      <td>Married</td>\n",
              "      <td>4500.0</td>\n",
              "      <td>White</td>\n",
              "      <td>80.1</td>\n",
              "      <td>23.2</td>\n",
              "      <td>0</td>\n",
              "      <td>8.55</td>\n",
              "      <td>4.5</td>\n",
              "      <td>82</td>\n",
              "      <td>28</td>\n",
              "      <td>56</td>\n",
              "      <td>No MetSyn</td>\n",
              "    </tr>\n",
              "    <tr>\n",
              "      <th>2</th>\n",
              "      <td>62169</td>\n",
              "      <td>21</td>\n",
              "      <td>Male</td>\n",
              "      <td>Single</td>\n",
              "      <td>800.0</td>\n",
              "      <td>Asian</td>\n",
              "      <td>69.6</td>\n",
              "      <td>20.1</td>\n",
              "      <td>0</td>\n",
              "      <td>5.07</td>\n",
              "      <td>5.4</td>\n",
              "      <td>107</td>\n",
              "      <td>43</td>\n",
              "      <td>78</td>\n",
              "      <td>No MetSyn</td>\n",
              "    </tr>\n",
              "    <tr>\n",
              "      <th>3</th>\n",
              "      <td>62172</td>\n",
              "      <td>43</td>\n",
              "      <td>Female</td>\n",
              "      <td>Single</td>\n",
              "      <td>2000.0</td>\n",
              "      <td>Black</td>\n",
              "      <td>120.4</td>\n",
              "      <td>33.3</td>\n",
              "      <td>0</td>\n",
              "      <td>5.22</td>\n",
              "      <td>5.0</td>\n",
              "      <td>104</td>\n",
              "      <td>73</td>\n",
              "      <td>141</td>\n",
              "      <td>No MetSyn</td>\n",
              "    </tr>\n",
              "    <tr>\n",
              "      <th>4</th>\n",
              "      <td>62177</td>\n",
              "      <td>51</td>\n",
              "      <td>Male</td>\n",
              "      <td>Married</td>\n",
              "      <td>NaN</td>\n",
              "      <td>Asian</td>\n",
              "      <td>81.1</td>\n",
              "      <td>20.1</td>\n",
              "      <td>0</td>\n",
              "      <td>8.13</td>\n",
              "      <td>5.0</td>\n",
              "      <td>95</td>\n",
              "      <td>43</td>\n",
              "      <td>126</td>\n",
              "      <td>No MetSyn</td>\n",
              "    </tr>\n",
              "  </tbody>\n",
              "</table>\n",
              "</div>\n",
              "      <button class=\"colab-df-convert\" onclick=\"convertToInteractive('df-dee230b0-736d-4aa3-bc0f-19ed20c07897')\"\n",
              "              title=\"Convert this dataframe to an interactive table.\"\n",
              "              style=\"display:none;\">\n",
              "        \n",
              "  <svg xmlns=\"http://www.w3.org/2000/svg\" height=\"24px\"viewBox=\"0 0 24 24\"\n",
              "       width=\"24px\">\n",
              "    <path d=\"M0 0h24v24H0V0z\" fill=\"none\"/>\n",
              "    <path d=\"M18.56 5.44l.94 2.06.94-2.06 2.06-.94-2.06-.94-.94-2.06-.94 2.06-2.06.94zm-11 1L8.5 8.5l.94-2.06 2.06-.94-2.06-.94L8.5 2.5l-.94 2.06-2.06.94zm10 10l.94 2.06.94-2.06 2.06-.94-2.06-.94-.94-2.06-.94 2.06-2.06.94z\"/><path d=\"M17.41 7.96l-1.37-1.37c-.4-.4-.92-.59-1.43-.59-.52 0-1.04.2-1.43.59L10.3 9.45l-7.72 7.72c-.78.78-.78 2.05 0 2.83L4 21.41c.39.39.9.59 1.41.59.51 0 1.02-.2 1.41-.59l7.78-7.78 2.81-2.81c.8-.78.8-2.07 0-2.86zM5.41 20L4 18.59l7.72-7.72 1.47 1.35L5.41 20z\"/>\n",
              "  </svg>\n",
              "      </button>\n",
              "      \n",
              "  <style>\n",
              "    .colab-df-container {\n",
              "      display:flex;\n",
              "      flex-wrap:wrap;\n",
              "      gap: 12px;\n",
              "    }\n",
              "\n",
              "    .colab-df-convert {\n",
              "      background-color: #E8F0FE;\n",
              "      border: none;\n",
              "      border-radius: 50%;\n",
              "      cursor: pointer;\n",
              "      display: none;\n",
              "      fill: #1967D2;\n",
              "      height: 32px;\n",
              "      padding: 0 0 0 0;\n",
              "      width: 32px;\n",
              "    }\n",
              "\n",
              "    .colab-df-convert:hover {\n",
              "      background-color: #E2EBFA;\n",
              "      box-shadow: 0px 1px 2px rgba(60, 64, 67, 0.3), 0px 1px 3px 1px rgba(60, 64, 67, 0.15);\n",
              "      fill: #174EA6;\n",
              "    }\n",
              "\n",
              "    [theme=dark] .colab-df-convert {\n",
              "      background-color: #3B4455;\n",
              "      fill: #D2E3FC;\n",
              "    }\n",
              "\n",
              "    [theme=dark] .colab-df-convert:hover {\n",
              "      background-color: #434B5C;\n",
              "      box-shadow: 0px 1px 3px 1px rgba(0, 0, 0, 0.15);\n",
              "      filter: drop-shadow(0px 1px 2px rgba(0, 0, 0, 0.3));\n",
              "      fill: #FFFFFF;\n",
              "    }\n",
              "  </style>\n",
              "\n",
              "      <script>\n",
              "        const buttonEl =\n",
              "          document.querySelector('#df-dee230b0-736d-4aa3-bc0f-19ed20c07897 button.colab-df-convert');\n",
              "        buttonEl.style.display =\n",
              "          google.colab.kernel.accessAllowed ? 'block' : 'none';\n",
              "\n",
              "        async function convertToInteractive(key) {\n",
              "          const element = document.querySelector('#df-dee230b0-736d-4aa3-bc0f-19ed20c07897');\n",
              "          const dataTable =\n",
              "            await google.colab.kernel.invokeFunction('convertToInteractive',\n",
              "                                                     [key], {});\n",
              "          if (!dataTable) return;\n",
              "\n",
              "          const docLinkHtml = 'Like what you see? Visit the ' +\n",
              "            '<a target=\"_blank\" href=https://colab.research.google.com/notebooks/data_table.ipynb>data table notebook</a>'\n",
              "            + ' to learn more about interactive tables.';\n",
              "          element.innerHTML = '';\n",
              "          dataTable['output_type'] = 'display_data';\n",
              "          await google.colab.output.renderOutput(dataTable, element);\n",
              "          const docLink = document.createElement('div');\n",
              "          docLink.innerHTML = docLinkHtml;\n",
              "          element.appendChild(docLink);\n",
              "        }\n",
              "      </script>\n",
              "    </div>\n",
              "  </div>\n",
              "  "
            ]
          },
          "metadata": {},
          "execution_count": 2
        }
      ]
    },
    {
      "cell_type": "markdown",
      "source": [
        "* The data appears to have loaded correctly"
      ],
      "metadata": {
        "id": "JNizG-otAVsy"
      }
    },
    {
      "cell_type": "markdown",
      "source": [
        "## Functions"
      ],
      "metadata": {
        "id": "zozuiYBhx90I"
      }
    },
    {
      "cell_type": "code",
      "source": [],
      "metadata": {
        "id": "utospCoWx-7C"
      },
      "execution_count": 2,
      "outputs": []
    },
    {
      "cell_type": "markdown",
      "source": [
        "# Inspect the Data"
      ],
      "metadata": {
        "id": "VuZyEFyKx_Co"
      }
    },
    {
      "cell_type": "code",
      "source": [
        "og_df.info()"
      ],
      "metadata": {
        "colab": {
          "base_uri": "https://localhost:8080/"
        },
        "id": "KWfhPvEJzGK_",
        "outputId": "df34e5b6-c4db-4c00-ad5b-1794da7ea753"
      },
      "execution_count": 3,
      "outputs": [
        {
          "output_type": "stream",
          "name": "stdout",
          "text": [
            "<class 'pandas.core.frame.DataFrame'>\n",
            "RangeIndex: 2401 entries, 0 to 2400\n",
            "Data columns (total 15 columns):\n",
            " #   Column             Non-Null Count  Dtype  \n",
            "---  ------             --------------  -----  \n",
            " 0   seqn               2401 non-null   int64  \n",
            " 1   age                2401 non-null   int64  \n",
            " 2   sex                2401 non-null   object \n",
            " 3   marital            2193 non-null   object \n",
            " 4   income             2284 non-null   float64\n",
            " 5   race               2401 non-null   object \n",
            " 6   waistcirc          2316 non-null   float64\n",
            " 7   bmi                2375 non-null   float64\n",
            " 8   albuminuria        2401 non-null   int64  \n",
            " 9   uralbcr            2401 non-null   float64\n",
            " 10  uricacid           2401 non-null   float64\n",
            " 11  bloodglucose       2401 non-null   int64  \n",
            " 12  hdl                2401 non-null   int64  \n",
            " 13  triglycerides      2401 non-null   int64  \n",
            " 14  metabolicsyndrome  2401 non-null   object \n",
            "dtypes: float64(5), int64(6), object(4)\n",
            "memory usage: 281.5+ KB\n"
          ]
        }
      ]
    },
    {
      "cell_type": "code",
      "source": [
        "# Display the number of rows and columns for the dataframe\n",
        "og_df.shape\n",
        "print(f'There are {og_df.shape[0]} rows, and {og_df.shape[1]} columns.')\n",
        "print(f'The rows represent {og_df.shape[0]} observations, and the columns represent {og_df.shape[1]-1} features and 1 target variable.')"
      ],
      "metadata": {
        "colab": {
          "base_uri": "https://localhost:8080/"
        },
        "id": "9IX9qnYY-pcX",
        "outputId": "9f4c7d0f-9978-4cfc-a4d4-26262a5735e0"
      },
      "execution_count": 4,
      "outputs": [
        {
          "output_type": "stream",
          "name": "stdout",
          "text": [
            "There are 2401 rows, and 15 columns.\n",
            "The rows represent 2401 observations, and the columns represent 14 features and 1 target variable.\n"
          ]
        }
      ]
    },
    {
      "cell_type": "code",
      "source": [
        "## Display the descriptive statistics for the numeric columns\n",
        "display(og_df.describe(include=\"number\"))\n",
        "## Display the descriptive statistics for the object columns\n",
        "display(og_df.describe(include=\"object\"))"
      ],
      "metadata": {
        "colab": {
          "base_uri": "https://localhost:8080/",
          "height": 458
        },
        "id": "RrAsmluc_Fx1",
        "outputId": "77912d84-3436-42db-d337-15c148ca5ac7"
      },
      "execution_count": 5,
      "outputs": [
        {
          "output_type": "display_data",
          "data": {
            "text/plain": [
              "               seqn          age       income    waistcirc          bmi  \\\n",
              "count   2401.000000  2401.000000  2284.000000  2316.000000  2375.000000   \n",
              "mean   67030.674302    48.691795  4005.253940    98.307254    28.702189   \n",
              "std     2823.565114    17.632852  2954.032186    16.252634     6.662242   \n",
              "min    62161.000000    20.000000   300.000000    56.200000    13.400000   \n",
              "25%    64591.000000    34.000000  1600.000000    86.675000    24.000000   \n",
              "50%    67059.000000    48.000000  2500.000000    97.000000    27.700000   \n",
              "75%    69495.000000    63.000000  6200.000000   107.625000    32.100000   \n",
              "max    71915.000000    80.000000  9000.000000   176.000000    68.700000   \n",
              "\n",
              "       albuminuria      uralbcr     uricacid  bloodglucose          hdl  \\\n",
              "count  2401.000000  2401.000000  2401.000000   2401.000000  2401.000000   \n",
              "mean      0.154102    43.626131     5.489046    108.247813    53.369429   \n",
              "std       0.422780   258.272829     1.439358     34.820657    15.185537   \n",
              "min       0.000000     1.400000     1.800000     39.000000    14.000000   \n",
              "25%       0.000000     4.450000     4.500000     92.000000    43.000000   \n",
              "50%       0.000000     7.070000     5.400000     99.000000    51.000000   \n",
              "75%       0.000000    13.690000     6.400000    110.000000    62.000000   \n",
              "max       2.000000  5928.000000    11.300000    382.000000   156.000000   \n",
              "\n",
              "       triglycerides  \n",
              "count    2401.000000  \n",
              "mean      128.125364  \n",
              "std        95.322477  \n",
              "min        26.000000  \n",
              "25%        75.000000  \n",
              "50%       103.000000  \n",
              "75%       150.000000  \n",
              "max      1562.000000  "
            ],
            "text/html": [
              "\n",
              "  <div id=\"df-008893c3-bf26-4309-a15c-bdc285e1e6d1\">\n",
              "    <div class=\"colab-df-container\">\n",
              "      <div>\n",
              "<style scoped>\n",
              "    .dataframe tbody tr th:only-of-type {\n",
              "        vertical-align: middle;\n",
              "    }\n",
              "\n",
              "    .dataframe tbody tr th {\n",
              "        vertical-align: top;\n",
              "    }\n",
              "\n",
              "    .dataframe thead th {\n",
              "        text-align: right;\n",
              "    }\n",
              "</style>\n",
              "<table border=\"1\" class=\"dataframe\">\n",
              "  <thead>\n",
              "    <tr style=\"text-align: right;\">\n",
              "      <th></th>\n",
              "      <th>seqn</th>\n",
              "      <th>age</th>\n",
              "      <th>income</th>\n",
              "      <th>waistcirc</th>\n",
              "      <th>bmi</th>\n",
              "      <th>albuminuria</th>\n",
              "      <th>uralbcr</th>\n",
              "      <th>uricacid</th>\n",
              "      <th>bloodglucose</th>\n",
              "      <th>hdl</th>\n",
              "      <th>triglycerides</th>\n",
              "    </tr>\n",
              "  </thead>\n",
              "  <tbody>\n",
              "    <tr>\n",
              "      <th>count</th>\n",
              "      <td>2401.000000</td>\n",
              "      <td>2401.000000</td>\n",
              "      <td>2284.000000</td>\n",
              "      <td>2316.000000</td>\n",
              "      <td>2375.000000</td>\n",
              "      <td>2401.000000</td>\n",
              "      <td>2401.000000</td>\n",
              "      <td>2401.000000</td>\n",
              "      <td>2401.000000</td>\n",
              "      <td>2401.000000</td>\n",
              "      <td>2401.000000</td>\n",
              "    </tr>\n",
              "    <tr>\n",
              "      <th>mean</th>\n",
              "      <td>67030.674302</td>\n",
              "      <td>48.691795</td>\n",
              "      <td>4005.253940</td>\n",
              "      <td>98.307254</td>\n",
              "      <td>28.702189</td>\n",
              "      <td>0.154102</td>\n",
              "      <td>43.626131</td>\n",
              "      <td>5.489046</td>\n",
              "      <td>108.247813</td>\n",
              "      <td>53.369429</td>\n",
              "      <td>128.125364</td>\n",
              "    </tr>\n",
              "    <tr>\n",
              "      <th>std</th>\n",
              "      <td>2823.565114</td>\n",
              "      <td>17.632852</td>\n",
              "      <td>2954.032186</td>\n",
              "      <td>16.252634</td>\n",
              "      <td>6.662242</td>\n",
              "      <td>0.422780</td>\n",
              "      <td>258.272829</td>\n",
              "      <td>1.439358</td>\n",
              "      <td>34.820657</td>\n",
              "      <td>15.185537</td>\n",
              "      <td>95.322477</td>\n",
              "    </tr>\n",
              "    <tr>\n",
              "      <th>min</th>\n",
              "      <td>62161.000000</td>\n",
              "      <td>20.000000</td>\n",
              "      <td>300.000000</td>\n",
              "      <td>56.200000</td>\n",
              "      <td>13.400000</td>\n",
              "      <td>0.000000</td>\n",
              "      <td>1.400000</td>\n",
              "      <td>1.800000</td>\n",
              "      <td>39.000000</td>\n",
              "      <td>14.000000</td>\n",
              "      <td>26.000000</td>\n",
              "    </tr>\n",
              "    <tr>\n",
              "      <th>25%</th>\n",
              "      <td>64591.000000</td>\n",
              "      <td>34.000000</td>\n",
              "      <td>1600.000000</td>\n",
              "      <td>86.675000</td>\n",
              "      <td>24.000000</td>\n",
              "      <td>0.000000</td>\n",
              "      <td>4.450000</td>\n",
              "      <td>4.500000</td>\n",
              "      <td>92.000000</td>\n",
              "      <td>43.000000</td>\n",
              "      <td>75.000000</td>\n",
              "    </tr>\n",
              "    <tr>\n",
              "      <th>50%</th>\n",
              "      <td>67059.000000</td>\n",
              "      <td>48.000000</td>\n",
              "      <td>2500.000000</td>\n",
              "      <td>97.000000</td>\n",
              "      <td>27.700000</td>\n",
              "      <td>0.000000</td>\n",
              "      <td>7.070000</td>\n",
              "      <td>5.400000</td>\n",
              "      <td>99.000000</td>\n",
              "      <td>51.000000</td>\n",
              "      <td>103.000000</td>\n",
              "    </tr>\n",
              "    <tr>\n",
              "      <th>75%</th>\n",
              "      <td>69495.000000</td>\n",
              "      <td>63.000000</td>\n",
              "      <td>6200.000000</td>\n",
              "      <td>107.625000</td>\n",
              "      <td>32.100000</td>\n",
              "      <td>0.000000</td>\n",
              "      <td>13.690000</td>\n",
              "      <td>6.400000</td>\n",
              "      <td>110.000000</td>\n",
              "      <td>62.000000</td>\n",
              "      <td>150.000000</td>\n",
              "    </tr>\n",
              "    <tr>\n",
              "      <th>max</th>\n",
              "      <td>71915.000000</td>\n",
              "      <td>80.000000</td>\n",
              "      <td>9000.000000</td>\n",
              "      <td>176.000000</td>\n",
              "      <td>68.700000</td>\n",
              "      <td>2.000000</td>\n",
              "      <td>5928.000000</td>\n",
              "      <td>11.300000</td>\n",
              "      <td>382.000000</td>\n",
              "      <td>156.000000</td>\n",
              "      <td>1562.000000</td>\n",
              "    </tr>\n",
              "  </tbody>\n",
              "</table>\n",
              "</div>\n",
              "      <button class=\"colab-df-convert\" onclick=\"convertToInteractive('df-008893c3-bf26-4309-a15c-bdc285e1e6d1')\"\n",
              "              title=\"Convert this dataframe to an interactive table.\"\n",
              "              style=\"display:none;\">\n",
              "        \n",
              "  <svg xmlns=\"http://www.w3.org/2000/svg\" height=\"24px\"viewBox=\"0 0 24 24\"\n",
              "       width=\"24px\">\n",
              "    <path d=\"M0 0h24v24H0V0z\" fill=\"none\"/>\n",
              "    <path d=\"M18.56 5.44l.94 2.06.94-2.06 2.06-.94-2.06-.94-.94-2.06-.94 2.06-2.06.94zm-11 1L8.5 8.5l.94-2.06 2.06-.94-2.06-.94L8.5 2.5l-.94 2.06-2.06.94zm10 10l.94 2.06.94-2.06 2.06-.94-2.06-.94-.94-2.06-.94 2.06-2.06.94z\"/><path d=\"M17.41 7.96l-1.37-1.37c-.4-.4-.92-.59-1.43-.59-.52 0-1.04.2-1.43.59L10.3 9.45l-7.72 7.72c-.78.78-.78 2.05 0 2.83L4 21.41c.39.39.9.59 1.41.59.51 0 1.02-.2 1.41-.59l7.78-7.78 2.81-2.81c.8-.78.8-2.07 0-2.86zM5.41 20L4 18.59l7.72-7.72 1.47 1.35L5.41 20z\"/>\n",
              "  </svg>\n",
              "      </button>\n",
              "      \n",
              "  <style>\n",
              "    .colab-df-container {\n",
              "      display:flex;\n",
              "      flex-wrap:wrap;\n",
              "      gap: 12px;\n",
              "    }\n",
              "\n",
              "    .colab-df-convert {\n",
              "      background-color: #E8F0FE;\n",
              "      border: none;\n",
              "      border-radius: 50%;\n",
              "      cursor: pointer;\n",
              "      display: none;\n",
              "      fill: #1967D2;\n",
              "      height: 32px;\n",
              "      padding: 0 0 0 0;\n",
              "      width: 32px;\n",
              "    }\n",
              "\n",
              "    .colab-df-convert:hover {\n",
              "      background-color: #E2EBFA;\n",
              "      box-shadow: 0px 1px 2px rgba(60, 64, 67, 0.3), 0px 1px 3px 1px rgba(60, 64, 67, 0.15);\n",
              "      fill: #174EA6;\n",
              "    }\n",
              "\n",
              "    [theme=dark] .colab-df-convert {\n",
              "      background-color: #3B4455;\n",
              "      fill: #D2E3FC;\n",
              "    }\n",
              "\n",
              "    [theme=dark] .colab-df-convert:hover {\n",
              "      background-color: #434B5C;\n",
              "      box-shadow: 0px 1px 3px 1px rgba(0, 0, 0, 0.15);\n",
              "      filter: drop-shadow(0px 1px 2px rgba(0, 0, 0, 0.3));\n",
              "      fill: #FFFFFF;\n",
              "    }\n",
              "  </style>\n",
              "\n",
              "      <script>\n",
              "        const buttonEl =\n",
              "          document.querySelector('#df-008893c3-bf26-4309-a15c-bdc285e1e6d1 button.colab-df-convert');\n",
              "        buttonEl.style.display =\n",
              "          google.colab.kernel.accessAllowed ? 'block' : 'none';\n",
              "\n",
              "        async function convertToInteractive(key) {\n",
              "          const element = document.querySelector('#df-008893c3-bf26-4309-a15c-bdc285e1e6d1');\n",
              "          const dataTable =\n",
              "            await google.colab.kernel.invokeFunction('convertToInteractive',\n",
              "                                                     [key], {});\n",
              "          if (!dataTable) return;\n",
              "\n",
              "          const docLinkHtml = 'Like what you see? Visit the ' +\n",
              "            '<a target=\"_blank\" href=https://colab.research.google.com/notebooks/data_table.ipynb>data table notebook</a>'\n",
              "            + ' to learn more about interactive tables.';\n",
              "          element.innerHTML = '';\n",
              "          dataTable['output_type'] = 'display_data';\n",
              "          await google.colab.output.renderOutput(dataTable, element);\n",
              "          const docLink = document.createElement('div');\n",
              "          docLink.innerHTML = docLinkHtml;\n",
              "          element.appendChild(docLink);\n",
              "        }\n",
              "      </script>\n",
              "    </div>\n",
              "  </div>\n",
              "  "
            ]
          },
          "metadata": {}
        },
        {
          "output_type": "display_data",
          "data": {
            "text/plain": [
              "           sex  marital   race metabolicsyndrome\n",
              "count     2401     2193   2401              2401\n",
              "unique       2        5      6                 2\n",
              "top     Female  Married  White         No MetSyn\n",
              "freq      1211     1192    933              1579"
            ],
            "text/html": [
              "\n",
              "  <div id=\"df-ae9cb3e4-27fd-47c1-9b0e-9f60d9fca9b5\">\n",
              "    <div class=\"colab-df-container\">\n",
              "      <div>\n",
              "<style scoped>\n",
              "    .dataframe tbody tr th:only-of-type {\n",
              "        vertical-align: middle;\n",
              "    }\n",
              "\n",
              "    .dataframe tbody tr th {\n",
              "        vertical-align: top;\n",
              "    }\n",
              "\n",
              "    .dataframe thead th {\n",
              "        text-align: right;\n",
              "    }\n",
              "</style>\n",
              "<table border=\"1\" class=\"dataframe\">\n",
              "  <thead>\n",
              "    <tr style=\"text-align: right;\">\n",
              "      <th></th>\n",
              "      <th>sex</th>\n",
              "      <th>marital</th>\n",
              "      <th>race</th>\n",
              "      <th>metabolicsyndrome</th>\n",
              "    </tr>\n",
              "  </thead>\n",
              "  <tbody>\n",
              "    <tr>\n",
              "      <th>count</th>\n",
              "      <td>2401</td>\n",
              "      <td>2193</td>\n",
              "      <td>2401</td>\n",
              "      <td>2401</td>\n",
              "    </tr>\n",
              "    <tr>\n",
              "      <th>unique</th>\n",
              "      <td>2</td>\n",
              "      <td>5</td>\n",
              "      <td>6</td>\n",
              "      <td>2</td>\n",
              "    </tr>\n",
              "    <tr>\n",
              "      <th>top</th>\n",
              "      <td>Female</td>\n",
              "      <td>Married</td>\n",
              "      <td>White</td>\n",
              "      <td>No MetSyn</td>\n",
              "    </tr>\n",
              "    <tr>\n",
              "      <th>freq</th>\n",
              "      <td>1211</td>\n",
              "      <td>1192</td>\n",
              "      <td>933</td>\n",
              "      <td>1579</td>\n",
              "    </tr>\n",
              "  </tbody>\n",
              "</table>\n",
              "</div>\n",
              "      <button class=\"colab-df-convert\" onclick=\"convertToInteractive('df-ae9cb3e4-27fd-47c1-9b0e-9f60d9fca9b5')\"\n",
              "              title=\"Convert this dataframe to an interactive table.\"\n",
              "              style=\"display:none;\">\n",
              "        \n",
              "  <svg xmlns=\"http://www.w3.org/2000/svg\" height=\"24px\"viewBox=\"0 0 24 24\"\n",
              "       width=\"24px\">\n",
              "    <path d=\"M0 0h24v24H0V0z\" fill=\"none\"/>\n",
              "    <path d=\"M18.56 5.44l.94 2.06.94-2.06 2.06-.94-2.06-.94-.94-2.06-.94 2.06-2.06.94zm-11 1L8.5 8.5l.94-2.06 2.06-.94-2.06-.94L8.5 2.5l-.94 2.06-2.06.94zm10 10l.94 2.06.94-2.06 2.06-.94-2.06-.94-.94-2.06-.94 2.06-2.06.94z\"/><path d=\"M17.41 7.96l-1.37-1.37c-.4-.4-.92-.59-1.43-.59-.52 0-1.04.2-1.43.59L10.3 9.45l-7.72 7.72c-.78.78-.78 2.05 0 2.83L4 21.41c.39.39.9.59 1.41.59.51 0 1.02-.2 1.41-.59l7.78-7.78 2.81-2.81c.8-.78.8-2.07 0-2.86zM5.41 20L4 18.59l7.72-7.72 1.47 1.35L5.41 20z\"/>\n",
              "  </svg>\n",
              "      </button>\n",
              "      \n",
              "  <style>\n",
              "    .colab-df-container {\n",
              "      display:flex;\n",
              "      flex-wrap:wrap;\n",
              "      gap: 12px;\n",
              "    }\n",
              "\n",
              "    .colab-df-convert {\n",
              "      background-color: #E8F0FE;\n",
              "      border: none;\n",
              "      border-radius: 50%;\n",
              "      cursor: pointer;\n",
              "      display: none;\n",
              "      fill: #1967D2;\n",
              "      height: 32px;\n",
              "      padding: 0 0 0 0;\n",
              "      width: 32px;\n",
              "    }\n",
              "\n",
              "    .colab-df-convert:hover {\n",
              "      background-color: #E2EBFA;\n",
              "      box-shadow: 0px 1px 2px rgba(60, 64, 67, 0.3), 0px 1px 3px 1px rgba(60, 64, 67, 0.15);\n",
              "      fill: #174EA6;\n",
              "    }\n",
              "\n",
              "    [theme=dark] .colab-df-convert {\n",
              "      background-color: #3B4455;\n",
              "      fill: #D2E3FC;\n",
              "    }\n",
              "\n",
              "    [theme=dark] .colab-df-convert:hover {\n",
              "      background-color: #434B5C;\n",
              "      box-shadow: 0px 1px 3px 1px rgba(0, 0, 0, 0.15);\n",
              "      filter: drop-shadow(0px 1px 2px rgba(0, 0, 0, 0.3));\n",
              "      fill: #FFFFFF;\n",
              "    }\n",
              "  </style>\n",
              "\n",
              "      <script>\n",
              "        const buttonEl =\n",
              "          document.querySelector('#df-ae9cb3e4-27fd-47c1-9b0e-9f60d9fca9b5 button.colab-df-convert');\n",
              "        buttonEl.style.display =\n",
              "          google.colab.kernel.accessAllowed ? 'block' : 'none';\n",
              "\n",
              "        async function convertToInteractive(key) {\n",
              "          const element = document.querySelector('#df-ae9cb3e4-27fd-47c1-9b0e-9f60d9fca9b5');\n",
              "          const dataTable =\n",
              "            await google.colab.kernel.invokeFunction('convertToInteractive',\n",
              "                                                     [key], {});\n",
              "          if (!dataTable) return;\n",
              "\n",
              "          const docLinkHtml = 'Like what you see? Visit the ' +\n",
              "            '<a target=\"_blank\" href=https://colab.research.google.com/notebooks/data_table.ipynb>data table notebook</a>'\n",
              "            + ' to learn more about interactive tables.';\n",
              "          element.innerHTML = '';\n",
              "          dataTable['output_type'] = 'display_data';\n",
              "          await google.colab.output.renderOutput(dataTable, element);\n",
              "          const docLink = document.createElement('div');\n",
              "          docLink.innerHTML = docLinkHtml;\n",
              "          element.appendChild(docLink);\n",
              "        }\n",
              "      </script>\n",
              "    </div>\n",
              "  </div>\n",
              "  "
            ]
          },
          "metadata": {}
        }
      ]
    },
    {
      "cell_type": "markdown",
      "source": [
        "### Copy of the Dataset"
      ],
      "metadata": {
        "id": "cAowJlTT_sv3"
      }
    },
    {
      "cell_type": "code",
      "source": [
        "# Make a copy of the dataset\n",
        "df = og_df.copy()"
      ],
      "metadata": {
        "id": "-y_dHZA0_uhH"
      },
      "execution_count": 6,
      "outputs": []
    },
    {
      "cell_type": "markdown",
      "source": [
        "## Clean the Data"
      ],
      "metadata": {
        "id": "d8qSnydq_y0Y"
      }
    },
    {
      "cell_type": "markdown",
      "source": [
        "### Remove the Unnecessary Columns/Values"
      ],
      "metadata": {
        "id": "mmbTpWzu_0LU"
      }
    },
    {
      "cell_type": "markdown",
      "source": [
        "#### Duplicates"
      ],
      "metadata": {
        "id": "EIM564z__5GW"
      }
    },
    {
      "cell_type": "code",
      "source": [
        "# Display the number of duplicate rows in the dataset\n",
        "print(f'There are {df.duplicated().sum()} duplicate rows.')"
      ],
      "metadata": {
        "colab": {
          "base_uri": "https://localhost:8080/"
        },
        "id": "xmzj8JJo_6do",
        "outputId": "19df6562-4277-4fdd-9cf8-3359597f6fe9"
      },
      "execution_count": 7,
      "outputs": [
        {
          "output_type": "stream",
          "name": "stdout",
          "text": [
            "There are 0 duplicate rows.\n"
          ]
        }
      ]
    },
    {
      "cell_type": "markdown",
      "source": [
        "* There are no duplicate rows present in the dataset"
      ],
      "metadata": {
        "id": "vLegGxgrAPEA"
      }
    },
    {
      "cell_type": "markdown",
      "source": [
        "#### Inspect Column Datatypes for Errors"
      ],
      "metadata": {
        "id": "iJq1LpP6AC8y"
      }
    },
    {
      "cell_type": "code",
      "source": [
        "# Display column names and datatypes\n",
        "df.dtypes"
      ],
      "metadata": {
        "colab": {
          "base_uri": "https://localhost:8080/"
        },
        "id": "6iYDrtCxAGCc",
        "outputId": "6befaf03-7e5c-4f87-8e00-83cc3acecea2"
      },
      "execution_count": 8,
      "outputs": [
        {
          "output_type": "execute_result",
          "data": {
            "text/plain": [
              "seqn                   int64\n",
              "age                    int64\n",
              "sex                   object\n",
              "marital               object\n",
              "income               float64\n",
              "race                  object\n",
              "waistcirc            float64\n",
              "bmi                  float64\n",
              "albuminuria            int64\n",
              "uralbcr              float64\n",
              "uricacid             float64\n",
              "bloodglucose           int64\n",
              "hdl                    int64\n",
              "triglycerides          int64\n",
              "metabolicsyndrome     object\n",
              "dtype: object"
            ]
          },
          "metadata": {},
          "execution_count": 8
        }
      ]
    },
    {
      "cell_type": "markdown",
      "source": [
        "* All columns appear to have the appropriate data types"
      ],
      "metadata": {
        "id": "qpF12DuhALqe"
      }
    },
    {
      "cell_type": "markdown",
      "source": [
        "#### Inspect Column Names for Errors"
      ],
      "metadata": {
        "id": "kryP6A6FAe6U"
      }
    },
    {
      "cell_type": "code",
      "source": [
        "# Display Column Names\n",
        "df.columns"
      ],
      "metadata": {
        "colab": {
          "base_uri": "https://localhost:8080/"
        },
        "id": "POis-XGiAg3U",
        "outputId": "c67fa54b-f1ef-47cf-a167-a39b53b0f495"
      },
      "execution_count": 9,
      "outputs": [
        {
          "output_type": "execute_result",
          "data": {
            "text/plain": [
              "Index(['seqn', 'age', 'sex', 'marital', 'income', 'race', 'waistcirc', 'bmi',\n",
              "       'albuminuria', 'uralbcr', 'uricacid', 'bloodglucose', 'hdl',\n",
              "       'triglycerides', 'metabolicsyndrome'],\n",
              "      dtype='object')"
            ]
          },
          "metadata": {},
          "execution_count": 9
        }
      ]
    },
    {
      "cell_type": "markdown",
      "source": [
        "* No errors noted"
      ],
      "metadata": {
        "id": "zRH4ax4EAmsC"
      }
    },
    {
      "cell_type": "markdown",
      "source": [
        "#### Inspect Values for Errors"
      ],
      "metadata": {
        "id": "36Npc1eUAokc"
      }
    },
    {
      "cell_type": "code",
      "source": [
        "# Display the descriptive statistics for the non-numeric columns\n",
        "display(df.describe(include='number'))\n",
        "display(df.describe(include='object'))"
      ],
      "metadata": {
        "colab": {
          "base_uri": "https://localhost:8080/",
          "height": 458
        },
        "id": "tZgo-AEbAqq3",
        "outputId": "b81edc80-a4b6-4b52-e467-804019c8ae26"
      },
      "execution_count": 10,
      "outputs": [
        {
          "output_type": "display_data",
          "data": {
            "text/plain": [
              "               seqn          age       income    waistcirc          bmi  \\\n",
              "count   2401.000000  2401.000000  2284.000000  2316.000000  2375.000000   \n",
              "mean   67030.674302    48.691795  4005.253940    98.307254    28.702189   \n",
              "std     2823.565114    17.632852  2954.032186    16.252634     6.662242   \n",
              "min    62161.000000    20.000000   300.000000    56.200000    13.400000   \n",
              "25%    64591.000000    34.000000  1600.000000    86.675000    24.000000   \n",
              "50%    67059.000000    48.000000  2500.000000    97.000000    27.700000   \n",
              "75%    69495.000000    63.000000  6200.000000   107.625000    32.100000   \n",
              "max    71915.000000    80.000000  9000.000000   176.000000    68.700000   \n",
              "\n",
              "       albuminuria      uralbcr     uricacid  bloodglucose          hdl  \\\n",
              "count  2401.000000  2401.000000  2401.000000   2401.000000  2401.000000   \n",
              "mean      0.154102    43.626131     5.489046    108.247813    53.369429   \n",
              "std       0.422780   258.272829     1.439358     34.820657    15.185537   \n",
              "min       0.000000     1.400000     1.800000     39.000000    14.000000   \n",
              "25%       0.000000     4.450000     4.500000     92.000000    43.000000   \n",
              "50%       0.000000     7.070000     5.400000     99.000000    51.000000   \n",
              "75%       0.000000    13.690000     6.400000    110.000000    62.000000   \n",
              "max       2.000000  5928.000000    11.300000    382.000000   156.000000   \n",
              "\n",
              "       triglycerides  \n",
              "count    2401.000000  \n",
              "mean      128.125364  \n",
              "std        95.322477  \n",
              "min        26.000000  \n",
              "25%        75.000000  \n",
              "50%       103.000000  \n",
              "75%       150.000000  \n",
              "max      1562.000000  "
            ],
            "text/html": [
              "\n",
              "  <div id=\"df-8ef1f0b7-e2cc-4799-9bdf-9b54f41ef788\">\n",
              "    <div class=\"colab-df-container\">\n",
              "      <div>\n",
              "<style scoped>\n",
              "    .dataframe tbody tr th:only-of-type {\n",
              "        vertical-align: middle;\n",
              "    }\n",
              "\n",
              "    .dataframe tbody tr th {\n",
              "        vertical-align: top;\n",
              "    }\n",
              "\n",
              "    .dataframe thead th {\n",
              "        text-align: right;\n",
              "    }\n",
              "</style>\n",
              "<table border=\"1\" class=\"dataframe\">\n",
              "  <thead>\n",
              "    <tr style=\"text-align: right;\">\n",
              "      <th></th>\n",
              "      <th>seqn</th>\n",
              "      <th>age</th>\n",
              "      <th>income</th>\n",
              "      <th>waistcirc</th>\n",
              "      <th>bmi</th>\n",
              "      <th>albuminuria</th>\n",
              "      <th>uralbcr</th>\n",
              "      <th>uricacid</th>\n",
              "      <th>bloodglucose</th>\n",
              "      <th>hdl</th>\n",
              "      <th>triglycerides</th>\n",
              "    </tr>\n",
              "  </thead>\n",
              "  <tbody>\n",
              "    <tr>\n",
              "      <th>count</th>\n",
              "      <td>2401.000000</td>\n",
              "      <td>2401.000000</td>\n",
              "      <td>2284.000000</td>\n",
              "      <td>2316.000000</td>\n",
              "      <td>2375.000000</td>\n",
              "      <td>2401.000000</td>\n",
              "      <td>2401.000000</td>\n",
              "      <td>2401.000000</td>\n",
              "      <td>2401.000000</td>\n",
              "      <td>2401.000000</td>\n",
              "      <td>2401.000000</td>\n",
              "    </tr>\n",
              "    <tr>\n",
              "      <th>mean</th>\n",
              "      <td>67030.674302</td>\n",
              "      <td>48.691795</td>\n",
              "      <td>4005.253940</td>\n",
              "      <td>98.307254</td>\n",
              "      <td>28.702189</td>\n",
              "      <td>0.154102</td>\n",
              "      <td>43.626131</td>\n",
              "      <td>5.489046</td>\n",
              "      <td>108.247813</td>\n",
              "      <td>53.369429</td>\n",
              "      <td>128.125364</td>\n",
              "    </tr>\n",
              "    <tr>\n",
              "      <th>std</th>\n",
              "      <td>2823.565114</td>\n",
              "      <td>17.632852</td>\n",
              "      <td>2954.032186</td>\n",
              "      <td>16.252634</td>\n",
              "      <td>6.662242</td>\n",
              "      <td>0.422780</td>\n",
              "      <td>258.272829</td>\n",
              "      <td>1.439358</td>\n",
              "      <td>34.820657</td>\n",
              "      <td>15.185537</td>\n",
              "      <td>95.322477</td>\n",
              "    </tr>\n",
              "    <tr>\n",
              "      <th>min</th>\n",
              "      <td>62161.000000</td>\n",
              "      <td>20.000000</td>\n",
              "      <td>300.000000</td>\n",
              "      <td>56.200000</td>\n",
              "      <td>13.400000</td>\n",
              "      <td>0.000000</td>\n",
              "      <td>1.400000</td>\n",
              "      <td>1.800000</td>\n",
              "      <td>39.000000</td>\n",
              "      <td>14.000000</td>\n",
              "      <td>26.000000</td>\n",
              "    </tr>\n",
              "    <tr>\n",
              "      <th>25%</th>\n",
              "      <td>64591.000000</td>\n",
              "      <td>34.000000</td>\n",
              "      <td>1600.000000</td>\n",
              "      <td>86.675000</td>\n",
              "      <td>24.000000</td>\n",
              "      <td>0.000000</td>\n",
              "      <td>4.450000</td>\n",
              "      <td>4.500000</td>\n",
              "      <td>92.000000</td>\n",
              "      <td>43.000000</td>\n",
              "      <td>75.000000</td>\n",
              "    </tr>\n",
              "    <tr>\n",
              "      <th>50%</th>\n",
              "      <td>67059.000000</td>\n",
              "      <td>48.000000</td>\n",
              "      <td>2500.000000</td>\n",
              "      <td>97.000000</td>\n",
              "      <td>27.700000</td>\n",
              "      <td>0.000000</td>\n",
              "      <td>7.070000</td>\n",
              "      <td>5.400000</td>\n",
              "      <td>99.000000</td>\n",
              "      <td>51.000000</td>\n",
              "      <td>103.000000</td>\n",
              "    </tr>\n",
              "    <tr>\n",
              "      <th>75%</th>\n",
              "      <td>69495.000000</td>\n",
              "      <td>63.000000</td>\n",
              "      <td>6200.000000</td>\n",
              "      <td>107.625000</td>\n",
              "      <td>32.100000</td>\n",
              "      <td>0.000000</td>\n",
              "      <td>13.690000</td>\n",
              "      <td>6.400000</td>\n",
              "      <td>110.000000</td>\n",
              "      <td>62.000000</td>\n",
              "      <td>150.000000</td>\n",
              "    </tr>\n",
              "    <tr>\n",
              "      <th>max</th>\n",
              "      <td>71915.000000</td>\n",
              "      <td>80.000000</td>\n",
              "      <td>9000.000000</td>\n",
              "      <td>176.000000</td>\n",
              "      <td>68.700000</td>\n",
              "      <td>2.000000</td>\n",
              "      <td>5928.000000</td>\n",
              "      <td>11.300000</td>\n",
              "      <td>382.000000</td>\n",
              "      <td>156.000000</td>\n",
              "      <td>1562.000000</td>\n",
              "    </tr>\n",
              "  </tbody>\n",
              "</table>\n",
              "</div>\n",
              "      <button class=\"colab-df-convert\" onclick=\"convertToInteractive('df-8ef1f0b7-e2cc-4799-9bdf-9b54f41ef788')\"\n",
              "              title=\"Convert this dataframe to an interactive table.\"\n",
              "              style=\"display:none;\">\n",
              "        \n",
              "  <svg xmlns=\"http://www.w3.org/2000/svg\" height=\"24px\"viewBox=\"0 0 24 24\"\n",
              "       width=\"24px\">\n",
              "    <path d=\"M0 0h24v24H0V0z\" fill=\"none\"/>\n",
              "    <path d=\"M18.56 5.44l.94 2.06.94-2.06 2.06-.94-2.06-.94-.94-2.06-.94 2.06-2.06.94zm-11 1L8.5 8.5l.94-2.06 2.06-.94-2.06-.94L8.5 2.5l-.94 2.06-2.06.94zm10 10l.94 2.06.94-2.06 2.06-.94-2.06-.94-.94-2.06-.94 2.06-2.06.94z\"/><path d=\"M17.41 7.96l-1.37-1.37c-.4-.4-.92-.59-1.43-.59-.52 0-1.04.2-1.43.59L10.3 9.45l-7.72 7.72c-.78.78-.78 2.05 0 2.83L4 21.41c.39.39.9.59 1.41.59.51 0 1.02-.2 1.41-.59l7.78-7.78 2.81-2.81c.8-.78.8-2.07 0-2.86zM5.41 20L4 18.59l7.72-7.72 1.47 1.35L5.41 20z\"/>\n",
              "  </svg>\n",
              "      </button>\n",
              "      \n",
              "  <style>\n",
              "    .colab-df-container {\n",
              "      display:flex;\n",
              "      flex-wrap:wrap;\n",
              "      gap: 12px;\n",
              "    }\n",
              "\n",
              "    .colab-df-convert {\n",
              "      background-color: #E8F0FE;\n",
              "      border: none;\n",
              "      border-radius: 50%;\n",
              "      cursor: pointer;\n",
              "      display: none;\n",
              "      fill: #1967D2;\n",
              "      height: 32px;\n",
              "      padding: 0 0 0 0;\n",
              "      width: 32px;\n",
              "    }\n",
              "\n",
              "    .colab-df-convert:hover {\n",
              "      background-color: #E2EBFA;\n",
              "      box-shadow: 0px 1px 2px rgba(60, 64, 67, 0.3), 0px 1px 3px 1px rgba(60, 64, 67, 0.15);\n",
              "      fill: #174EA6;\n",
              "    }\n",
              "\n",
              "    [theme=dark] .colab-df-convert {\n",
              "      background-color: #3B4455;\n",
              "      fill: #D2E3FC;\n",
              "    }\n",
              "\n",
              "    [theme=dark] .colab-df-convert:hover {\n",
              "      background-color: #434B5C;\n",
              "      box-shadow: 0px 1px 3px 1px rgba(0, 0, 0, 0.15);\n",
              "      filter: drop-shadow(0px 1px 2px rgba(0, 0, 0, 0.3));\n",
              "      fill: #FFFFFF;\n",
              "    }\n",
              "  </style>\n",
              "\n",
              "      <script>\n",
              "        const buttonEl =\n",
              "          document.querySelector('#df-8ef1f0b7-e2cc-4799-9bdf-9b54f41ef788 button.colab-df-convert');\n",
              "        buttonEl.style.display =\n",
              "          google.colab.kernel.accessAllowed ? 'block' : 'none';\n",
              "\n",
              "        async function convertToInteractive(key) {\n",
              "          const element = document.querySelector('#df-8ef1f0b7-e2cc-4799-9bdf-9b54f41ef788');\n",
              "          const dataTable =\n",
              "            await google.colab.kernel.invokeFunction('convertToInteractive',\n",
              "                                                     [key], {});\n",
              "          if (!dataTable) return;\n",
              "\n",
              "          const docLinkHtml = 'Like what you see? Visit the ' +\n",
              "            '<a target=\"_blank\" href=https://colab.research.google.com/notebooks/data_table.ipynb>data table notebook</a>'\n",
              "            + ' to learn more about interactive tables.';\n",
              "          element.innerHTML = '';\n",
              "          dataTable['output_type'] = 'display_data';\n",
              "          await google.colab.output.renderOutput(dataTable, element);\n",
              "          const docLink = document.createElement('div');\n",
              "          docLink.innerHTML = docLinkHtml;\n",
              "          element.appendChild(docLink);\n",
              "        }\n",
              "      </script>\n",
              "    </div>\n",
              "  </div>\n",
              "  "
            ]
          },
          "metadata": {}
        },
        {
          "output_type": "display_data",
          "data": {
            "text/plain": [
              "           sex  marital   race metabolicsyndrome\n",
              "count     2401     2193   2401              2401\n",
              "unique       2        5      6                 2\n",
              "top     Female  Married  White         No MetSyn\n",
              "freq      1211     1192    933              1579"
            ],
            "text/html": [
              "\n",
              "  <div id=\"df-fba3fe54-e24f-483a-b2d1-14640384170b\">\n",
              "    <div class=\"colab-df-container\">\n",
              "      <div>\n",
              "<style scoped>\n",
              "    .dataframe tbody tr th:only-of-type {\n",
              "        vertical-align: middle;\n",
              "    }\n",
              "\n",
              "    .dataframe tbody tr th {\n",
              "        vertical-align: top;\n",
              "    }\n",
              "\n",
              "    .dataframe thead th {\n",
              "        text-align: right;\n",
              "    }\n",
              "</style>\n",
              "<table border=\"1\" class=\"dataframe\">\n",
              "  <thead>\n",
              "    <tr style=\"text-align: right;\">\n",
              "      <th></th>\n",
              "      <th>sex</th>\n",
              "      <th>marital</th>\n",
              "      <th>race</th>\n",
              "      <th>metabolicsyndrome</th>\n",
              "    </tr>\n",
              "  </thead>\n",
              "  <tbody>\n",
              "    <tr>\n",
              "      <th>count</th>\n",
              "      <td>2401</td>\n",
              "      <td>2193</td>\n",
              "      <td>2401</td>\n",
              "      <td>2401</td>\n",
              "    </tr>\n",
              "    <tr>\n",
              "      <th>unique</th>\n",
              "      <td>2</td>\n",
              "      <td>5</td>\n",
              "      <td>6</td>\n",
              "      <td>2</td>\n",
              "    </tr>\n",
              "    <tr>\n",
              "      <th>top</th>\n",
              "      <td>Female</td>\n",
              "      <td>Married</td>\n",
              "      <td>White</td>\n",
              "      <td>No MetSyn</td>\n",
              "    </tr>\n",
              "    <tr>\n",
              "      <th>freq</th>\n",
              "      <td>1211</td>\n",
              "      <td>1192</td>\n",
              "      <td>933</td>\n",
              "      <td>1579</td>\n",
              "    </tr>\n",
              "  </tbody>\n",
              "</table>\n",
              "</div>\n",
              "      <button class=\"colab-df-convert\" onclick=\"convertToInteractive('df-fba3fe54-e24f-483a-b2d1-14640384170b')\"\n",
              "              title=\"Convert this dataframe to an interactive table.\"\n",
              "              style=\"display:none;\">\n",
              "        \n",
              "  <svg xmlns=\"http://www.w3.org/2000/svg\" height=\"24px\"viewBox=\"0 0 24 24\"\n",
              "       width=\"24px\">\n",
              "    <path d=\"M0 0h24v24H0V0z\" fill=\"none\"/>\n",
              "    <path d=\"M18.56 5.44l.94 2.06.94-2.06 2.06-.94-2.06-.94-.94-2.06-.94 2.06-2.06.94zm-11 1L8.5 8.5l.94-2.06 2.06-.94-2.06-.94L8.5 2.5l-.94 2.06-2.06.94zm10 10l.94 2.06.94-2.06 2.06-.94-2.06-.94-.94-2.06-.94 2.06-2.06.94z\"/><path d=\"M17.41 7.96l-1.37-1.37c-.4-.4-.92-.59-1.43-.59-.52 0-1.04.2-1.43.59L10.3 9.45l-7.72 7.72c-.78.78-.78 2.05 0 2.83L4 21.41c.39.39.9.59 1.41.59.51 0 1.02-.2 1.41-.59l7.78-7.78 2.81-2.81c.8-.78.8-2.07 0-2.86zM5.41 20L4 18.59l7.72-7.72 1.47 1.35L5.41 20z\"/>\n",
              "  </svg>\n",
              "      </button>\n",
              "      \n",
              "  <style>\n",
              "    .colab-df-container {\n",
              "      display:flex;\n",
              "      flex-wrap:wrap;\n",
              "      gap: 12px;\n",
              "    }\n",
              "\n",
              "    .colab-df-convert {\n",
              "      background-color: #E8F0FE;\n",
              "      border: none;\n",
              "      border-radius: 50%;\n",
              "      cursor: pointer;\n",
              "      display: none;\n",
              "      fill: #1967D2;\n",
              "      height: 32px;\n",
              "      padding: 0 0 0 0;\n",
              "      width: 32px;\n",
              "    }\n",
              "\n",
              "    .colab-df-convert:hover {\n",
              "      background-color: #E2EBFA;\n",
              "      box-shadow: 0px 1px 2px rgba(60, 64, 67, 0.3), 0px 1px 3px 1px rgba(60, 64, 67, 0.15);\n",
              "      fill: #174EA6;\n",
              "    }\n",
              "\n",
              "    [theme=dark] .colab-df-convert {\n",
              "      background-color: #3B4455;\n",
              "      fill: #D2E3FC;\n",
              "    }\n",
              "\n",
              "    [theme=dark] .colab-df-convert:hover {\n",
              "      background-color: #434B5C;\n",
              "      box-shadow: 0px 1px 3px 1px rgba(0, 0, 0, 0.15);\n",
              "      filter: drop-shadow(0px 1px 2px rgba(0, 0, 0, 0.3));\n",
              "      fill: #FFFFFF;\n",
              "    }\n",
              "  </style>\n",
              "\n",
              "      <script>\n",
              "        const buttonEl =\n",
              "          document.querySelector('#df-fba3fe54-e24f-483a-b2d1-14640384170b button.colab-df-convert');\n",
              "        buttonEl.style.display =\n",
              "          google.colab.kernel.accessAllowed ? 'block' : 'none';\n",
              "\n",
              "        async function convertToInteractive(key) {\n",
              "          const element = document.querySelector('#df-fba3fe54-e24f-483a-b2d1-14640384170b');\n",
              "          const dataTable =\n",
              "            await google.colab.kernel.invokeFunction('convertToInteractive',\n",
              "                                                     [key], {});\n",
              "          if (!dataTable) return;\n",
              "\n",
              "          const docLinkHtml = 'Like what you see? Visit the ' +\n",
              "            '<a target=\"_blank\" href=https://colab.research.google.com/notebooks/data_table.ipynb>data table notebook</a>'\n",
              "            + ' to learn more about interactive tables.';\n",
              "          element.innerHTML = '';\n",
              "          dataTable['output_type'] = 'display_data';\n",
              "          await google.colab.output.renderOutput(dataTable, element);\n",
              "          const docLink = document.createElement('div');\n",
              "          docLink.innerHTML = docLinkHtml;\n",
              "          element.appendChild(docLink);\n",
              "        }\n",
              "      </script>\n",
              "    </div>\n",
              "  </div>\n",
              "  "
            ]
          },
          "metadata": {}
        }
      ]
    },
    {
      "cell_type": "markdown",
      "source": [
        "* Everything looks to be in order. Missing values are present"
      ],
      "metadata": {
        "id": "hXMXtHadA_C2"
      }
    },
    {
      "cell_type": "markdown",
      "source": [
        "### Missing Values"
      ],
      "metadata": {
        "id": "aqU6DzG4BEI4"
      }
    },
    {
      "cell_type": "code",
      "source": [
        "# Display the total number of missing values\n",
        "print(f'There are {df.isna().sum().sum()} missing values.')"
      ],
      "metadata": {
        "colab": {
          "base_uri": "https://localhost:8080/"
        },
        "id": "GoDpndjGBFc4",
        "outputId": "5a5390a5-71cd-434a-cba5-5f096bc14b72"
      },
      "execution_count": 11,
      "outputs": [
        {
          "output_type": "stream",
          "name": "stdout",
          "text": [
            "There are 436 missing values.\n"
          ]
        }
      ]
    },
    {
      "cell_type": "code",
      "source": [
        "# Display the count of missing values by column\n",
        "print(df.isna().sum())"
      ],
      "metadata": {
        "colab": {
          "base_uri": "https://localhost:8080/"
        },
        "id": "igby_kBWBOYK",
        "outputId": "0056bd0e-af90-4037-d9e9-3b1f01c5e628"
      },
      "execution_count": 12,
      "outputs": [
        {
          "output_type": "stream",
          "name": "stdout",
          "text": [
            "seqn                   0\n",
            "age                    0\n",
            "sex                    0\n",
            "marital              208\n",
            "income               117\n",
            "race                   0\n",
            "waistcirc             85\n",
            "bmi                   26\n",
            "albuminuria            0\n",
            "uralbcr                0\n",
            "uricacid               0\n",
            "bloodglucose           0\n",
            "hdl                    0\n",
            "triglycerides          0\n",
            "metabolicsyndrome      0\n",
            "dtype: int64\n"
          ]
        }
      ]
    },
    {
      "cell_type": "code",
      "source": [
        "# Display the percentage of missing values by column\n",
        "print(df.isna().sum()/len(df)*100)"
      ],
      "metadata": {
        "colab": {
          "base_uri": "https://localhost:8080/"
        },
        "id": "DQH9ciFuBbtg",
        "outputId": "6f8e4b71-df53-4757-de87-7f2e9d92d777"
      },
      "execution_count": 13,
      "outputs": [
        {
          "output_type": "stream",
          "name": "stdout",
          "text": [
            "seqn                 0.000000\n",
            "age                  0.000000\n",
            "sex                  0.000000\n",
            "marital              8.663057\n",
            "income               4.872970\n",
            "race                 0.000000\n",
            "waistcirc            3.540192\n",
            "bmi                  1.082882\n",
            "albuminuria          0.000000\n",
            "uralbcr              0.000000\n",
            "uricacid             0.000000\n",
            "bloodglucose         0.000000\n",
            "hdl                  0.000000\n",
            "triglycerides        0.000000\n",
            "metabolicsyndrome    0.000000\n",
            "dtype: float64\n"
          ]
        }
      ]
    },
    {
      "cell_type": "markdown",
      "source": [
        "* There are missing values in the 'martial', 'waistcirc', 'bmi', and 'income' features.\n",
        "  * A simple imputer will be needed in the preprocessing steps.\n",
        "  * Missing for martial, and mean for the 'waistcirc', 'bmi', and 'income'."
      ],
      "metadata": {
        "id": "uRN9eTp-BuIo"
      }
    },
    {
      "cell_type": "markdown",
      "source": [
        "## Exploratory Visuals"
      ],
      "metadata": {
        "id": "Hdgs6qBdYmao"
      }
    },
    {
      "cell_type": "markdown",
      "source": [
        "### Histogram with a breakdown of the individual bloodglucose levels\n",
        "\n",
        "\n",
        "\n"
      ],
      "metadata": {
        "id": "6s0yNOPRYzrH"
      }
    },
    {
      "cell_type": "code",
      "source": [
        "g = sns.displot(data = df, x = 'bloodglucose', aspect = 2.5);\n",
        "\n",
        "g.ax.set_title('Distribution Bloodglucose Levels', fontsize = 20);\n",
        "\n",
        "g.ax.set_xlabel('Bloodglucose Levels', fontsize = 15)\n",
        "g.ax.set_ylabel('# of Individuals', fontsize = 15)\n",
        "\n",
        "median = df['bloodglucose'].median()\n",
        "\n",
        "g.ax.axvline(median, color = 'black', linestyle = '--', label = f'Median Level = {median:,.2f}')\n",
        "g.ax.legend();"
      ],
      "metadata": {
        "colab": {
          "base_uri": "https://localhost:8080/",
          "height": 395
        },
        "id": "hPV7nAaoZahb",
        "outputId": "6b1ae08a-b2bb-41c6-f150-7c455bd49a0e"
      },
      "execution_count": 16,
      "outputs": [
        {
          "output_type": "display_data",
          "data": {
            "text/plain": [
              "<Figure size 900x360 with 1 Axes>"
            ],
            "image/png": "[encoded data removed]"
          },
          "metadata": {
            "needs_background": "light"
          }
        }
      ]
    },
    {
      "cell_type": "markdown",
      "source": [
        "* The histogram shows the median of the bloodglucose levels is 99 and that the vast majority of the individuals under 150."
      ],
      "metadata": {
        "id": "6kcEXNjgiYdP"
      }
    },
    {
      "cell_type": "markdown",
      "source": [
        "### Checking for Outliers with a Box Plot"
      ],
      "metadata": {
        "id": "W55SnfgWYqTq"
      }
    },
    {
      "cell_type": "code",
      "source": [
        "no_met = df.loc[df['metabolicsyndrome']=='No MetSyn', 'bloodglucose']\n",
        "met = df.loc[df['metabolicsyndrome']=='MetSyn', 'bloodglucose']\n",
        "fig,axes = plt.subplots(nrows = 1, ncols = 1)\n",
        "axes.boxplot([no_met, met], notch = True, labels = ['No_MetSyn', 'MetSyn']);\n",
        "plt.ylabel('Bloodglucose Level')\n",
        "plt.title('Bloodglucose Level Distributed by Metabolicsyndrome')"
      ],
      "metadata": {
        "colab": {
          "base_uri": "https://localhost:8080/",
          "height": 354
        },
        "id": "AZfNSPsjYuNY",
        "outputId": "170f9ca6-222a-4dcf-b318-f0c1d182f159"
      },
      "execution_count": 29,
      "outputs": [
        {
          "output_type": "stream",
          "name": "stderr",
          "text": [
            "/usr/local/lib/python3.8/dist-packages/matplotlib/cbook/__init__.py:1376: VisibleDeprecationWarning: Creating an ndarray from ragged nested sequences (which is a list-or-tuple of lists-or-tuples-or ndarrays with different lengths or shapes) is deprecated. If you meant to do this, you must specify 'dtype=object' when creating the ndarray.\n",
            "  X = np.atleast_1d(X.T if isinstance(X, np.ndarray) else np.asarray(X))\n"
          ]
        },
        {
          "output_type": "execute_result",
          "data": {
            "text/plain": [
              "Text(0.5, 1.0, 'Bloodglucose Level Distributed by Metabolicsyndrome')"
            ]
          },
          "metadata": {},
          "execution_count": 29
        },
        {
          "output_type": "display_data",
          "data": {
            "text/plain": [
              "<Figure size 432x288 with 1 Axes>"
            ],
            "image/png": "[encoded data removed]"
          },
          "metadata": {
            "needs_background": "light"
          }
        }
      ]
    },
    {
      "cell_type": "markdown",
      "source": [
        "* What the boxplot shows is that the vast majority of individuals have a blood glucose level under 150. The outliers are those anything above 125 on the No_MetSyn side and 175 for the MetSyn side. "
      ],
      "metadata": {
        "id": "d6jw7J46cYqV"
      }
    },
    {
      "cell_type": "markdown",
      "source": [
        "### Check Class Balance"
      ],
      "metadata": {
        "id": "6wGtK5PwCtlR"
      }
    },
    {
      "cell_type": "code",
      "source": [
        "# Check how many samples of each class are present\n",
        "df['metabolicsyndrome'].value_counts()"
      ],
      "metadata": {
        "colab": {
          "base_uri": "https://localhost:8080/"
        },
        "id": "VLmrzAO5CvRZ",
        "outputId": "192e5669-0c8c-4cfe-bb52-5b122e2b91ad"
      },
      "execution_count": 18,
      "outputs": [
        {
          "output_type": "execute_result",
          "data": {
            "text/plain": [
              "No MetSyn    1579\n",
              "MetSyn        822\n",
              "Name: metabolicsyndrome, dtype: int64"
            ]
          },
          "metadata": {},
          "execution_count": 18
        }
      ]
    },
    {
      "cell_type": "code",
      "source": [
        "# Check how many samples of each class are present\n",
        "df['metabolicsyndrome'].value_counts(normalize=True)"
      ],
      "metadata": {
        "id": "F1NRtWRXC5NN"
      },
      "execution_count": null,
      "outputs": []
    },
    {
      "cell_type": "code",
      "source": [
        "# Encode 'metabolicsyndrome' column\n",
        "df['metabolicsyndrome'] = df['metabolicsyndrome'].replace({'No MetSyn': 0, 'MetSyn': 1})"
      ],
      "metadata": {
        "id": "MnDjahPpDodn"
      },
      "execution_count": null,
      "outputs": []
    },
    {
      "cell_type": "markdown",
      "source": [
        "## Validate Data"
      ],
      "metadata": {
        "id": "OLMKnKxlC9Cg"
      }
    },
    {
      "cell_type": "code",
      "source": [
        "# Define features (X) and target (y)\n",
        "target = 'metabolicsyndrome'\n",
        "labels = ['No MetSyn', 'MetSyn']\n",
        "\n",
        "X = df.drop(columns = target, axis=1).copy()\n",
        "y = df[target].copy()"
      ],
      "metadata": {
        "id": "7KGe077wC-Gj"
      },
      "execution_count": null,
      "outputs": []
    },
    {
      "cell_type": "code",
      "source": [
        "# Split the DataSet\n",
        "X_train, X_test, y_train, y_test = train_test_split(X,y, random_state = 42)"
      ],
      "metadata": {
        "id": "idjgI1jlD2Fg"
      },
      "execution_count": null,
      "outputs": []
    },
    {
      "cell_type": "code",
      "source": [
        "# Check how many samples of each class are present for train\n",
        "y_train.value_counts(normalize=True)"
      ],
      "metadata": {
        "id": "IA5rxPd5D9Nh"
      },
      "execution_count": null,
      "outputs": []
    },
    {
      "cell_type": "code",
      "source": [
        "# Check how many samples of each class are present for test\n",
        "y_test.value_counts(normalize=True)"
      ],
      "metadata": {
        "id": "uTlIORIvEDmk"
      },
      "execution_count": null,
      "outputs": []
    },
    {
      "cell_type": "markdown",
      "source": [
        "## Preprocessing for Machine Learning"
      ],
      "metadata": {
        "id": "GIhkH09QEIOP"
      }
    },
    {
      "cell_type": "markdown",
      "source": [
        "### ColumnSelector"
      ],
      "metadata": {
        "id": "dNzuaNLbEMgr"
      }
    },
    {
      "cell_type": "code",
      "source": [
        "# Instantiate the column selectors\n",
        "num_selector = make_column_selector(dtype_include = 'number')\n",
        "cat_selector = make_column_selector(dtype_include = 'object')"
      ],
      "metadata": {
        "id": "qONii8utEKAw"
      },
      "execution_count": null,
      "outputs": []
    },
    {
      "cell_type": "markdown",
      "source": [
        "### Imputers"
      ],
      "metadata": {
        "id": "xaNpjRYnEZoT"
      }
    },
    {
      "cell_type": "code",
      "source": [
        "# Instantiate the imputer \n",
        "mean_imputer = SimpleImputer(strategy='mean')\n",
        "missing_imputer = SimpleImputer(strategy='constant', fill_value='Missing')\n",
        "\n",
        "# Instantiate the transformer\n",
        "scaler = StandardScaler()\n",
        "\n",
        "# Instantiate One Hot Encoder\n",
        "ohe = OneHotEncoder(sparse=False, handle_unknown='ignore')"
      ],
      "metadata": {
        "id": "b-juT2gBEa8E"
      },
      "execution_count": null,
      "outputs": []
    },
    {
      "cell_type": "markdown",
      "source": [
        "* mean_imputer to find the average of the missing values in 'waistcirc', 'bmi', and 'income'. "
      ],
      "metadata": {
        "id": "ExJ3bI30F7_R"
      }
    },
    {
      "cell_type": "markdown",
      "source": [
        "### Pipeline"
      ],
      "metadata": {
        "id": "BEceE3GiEbFU"
      }
    },
    {
      "cell_type": "code",
      "source": [
        "numeric_pipe = make_pipeline(mean_imputer, scaler)"
      ],
      "metadata": {
        "id": "JIueJA_MEcNG"
      },
      "execution_count": null,
      "outputs": []
    },
    {
      "cell_type": "markdown",
      "source": [
        "### Tuples"
      ],
      "metadata": {
        "id": "-2Bsn5quEcYc"
      }
    },
    {
      "cell_type": "code",
      "source": [
        "# Create suples\n",
        "num_tuple = (numeric_pipe, num_selector)\n",
        "cat_tuple = (ohe, cat_selector)"
      ],
      "metadata": {
        "id": "0J58TaXdEd-r"
      },
      "execution_count": null,
      "outputs": []
    },
    {
      "cell_type": "markdown",
      "source": [
        "### ColumnTransformer"
      ],
      "metadata": {
        "id": "KDGghz3eGMHe"
      }
    },
    {
      "cell_type": "code",
      "source": [
        "# Create the preprocessor\n",
        "preprocessor = make_column_transformer(num_tuple, cat_tuple, remainder='drop')"
      ],
      "metadata": {
        "id": "TxAP5WK1GOeP"
      },
      "execution_count": null,
      "outputs": []
    }
  ]
}